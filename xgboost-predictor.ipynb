{
  "nbformat": 4,
  "nbformat_minor": 0,
  "metadata": {
    "colab": {
      "provenance": [],
      "authorship_tag": "ABX9TyMKI9XBmHaG6rmutBvfM8rj",
      "include_colab_link": true
    },
    "kernelspec": {
      "name": "python3",
      "display_name": "Python 3"
    },
    "language_info": {
      "name": "python"
    }
  },
  "cells": [
    {
      "cell_type": "markdown",
      "metadata": {
        "id": "view-in-github",
        "colab_type": "text"
      },
      "source": [
        "<a href=\"https://colab.research.google.com/github/SyedHassan20/xgboost-immunogenicity-predictor/blob/main/xgboost-predictor.ipynb\" target=\"_parent\"><img src=\"https://colab.research.google.com/assets/colab-badge.svg\" alt=\"Open In Colab\"/></a>"
      ]
    },
    {
      "cell_type": "code",
      "source": [
        "# Importing packages\n",
        "#!pip install biopython\n",
        "from IPython.display import display\n",
        "import pandas as pd\n",
        "import numpy as np\n",
        "from Bio.SeqUtils.ProtParam import ProteinAnalysis\n",
        "from sklearn.feature_extraction.text import CountVectorizer\n",
        "from sklearn.model_selection import train_test_split\n",
        "from sklearn.ensemble import RandomForestClassifier\n",
        "from sklearn.metrics import accuracy_score, roc_auc_score, precision_recall_fscore_support, precision_recall_curve\n",
        "\n",
        "from scipy.sparse import hstack, csr_matrix\n",
        "import shap\n",
        "import matplotlib.pyplot as plt\n",
        "import xgboost as xgb\n",
        "from xgboost import XGBClassifier\n",
        "from imblearn.over_sampling import SMOTE\n"
      ],
      "metadata": {
        "id": "eUVCB1ud7h3V"
      },
      "execution_count": 29,
      "outputs": []
    },
    {
      "cell_type": "markdown",
      "source": [
        "## **Preparing Data**"
      ],
      "metadata": {
        "id": "Z8PvphV5-pYN"
      }
    },
    {
      "cell_type": "code",
      "execution_count": 6,
      "metadata": {
        "colab": {
          "base_uri": "https://localhost:8080/"
        },
        "id": "m1WB3qQ57NX1",
        "outputId": "5d242cfa-ef5f-4c87-9b57-90bc7d9e484c"
      },
      "outputs": [
        {
          "output_type": "stream",
          "name": "stderr",
          "text": [
            "<ipython-input-6-3cb78019ffa8>:7: DtypeWarning: Columns (0,1,2) have mixed types. Specify dtype option on import or set low_memory=False.\n",
            "  df_neg = pd.read_csv(neg_url)\n"
          ]
        }
      ],
      "source": [
        "# Defining the URL\n",
        "pos_url = \"https://docs.google.com/spreadsheets/d/e/2PACX-1vR9O777xgUf1cNZ025FNXGaPQKGJr9GmcF5UhSIHbvsu0If--9p_PceJdtkLEXrjQ/pub?gid=1174444269&single=true&output=csv\"\n",
        "neg_url = \"https://docs.google.com/spreadsheets/d/e/2PACX-1vT4IyMxpZdDlFTVv__TcfcgTX95-AFsdPtGuRnpoPUf2j4cr0WmVGGz7vqBDsWo4g/pub?gid=1099012796&single=true&output=csv\"\n",
        "\n",
        "# Reading the CSV file from the URL\n",
        "df_pos = pd.read_csv(pos_url)\n",
        "df_neg = pd.read_csv(neg_url)\n",
        "\n"
      ]
    },
    {
      "cell_type": "code",
      "source": [
        "# Concatenating the datasets (assuming they have the same columns)\n",
        "df_merged = pd.concat([df_pos, df_neg], ignore_index=True)\n",
        "\n",
        "# Display the first few rows\n",
        "display(df_merged.head())"
      ],
      "metadata": {
        "colab": {
          "base_uri": "https://localhost:8080/",
          "height": 206
        },
        "id": "9bhKoPYK-GMb",
        "outputId": "c2a8970d-fab3-4ed4-df8f-8a781dd8a6ac"
      },
      "execution_count": 7,
      "outputs": [
        {
          "output_type": "display_data",
          "data": {
            "text/plain": [
              "                   Name                                    Source Molecule  \\\n",
              "0             AAAAAIFVI                      MHC class I related protein A   \n",
              "1    AAAAALDKKQRNFDKILA                                           Myosin-7   \n",
              "2  AAAAKLAGLVFPQPPAPIAV  hypothetical protein Rv3878 - Mycobacterium tu...   \n",
              "3                AAAGDK                                        B13 antigen   \n",
              "4  AAAGFASKTPANQAISMIDG         Phosphate-binding protein pstS 1 precursor   \n",
              "\n",
              "                      Species  Immunogenic  \n",
              "0                Homo sapiens            1  \n",
              "1                Homo sapiens            1  \n",
              "2  Mycobacterium tuberculosis            1  \n",
              "3           Trypanosoma cruzi            1  \n",
              "4  Mycobacterium tuberculosis            1  "
            ],
            "text/html": [
              "\n",
              "  <div id=\"df-52b7f9d8-0d4e-4bcd-b19e-85b17a347b35\" class=\"colab-df-container\">\n",
              "    <div>\n",
              "<style scoped>\n",
              "    .dataframe tbody tr th:only-of-type {\n",
              "        vertical-align: middle;\n",
              "    }\n",
              "\n",
              "    .dataframe tbody tr th {\n",
              "        vertical-align: top;\n",
              "    }\n",
              "\n",
              "    .dataframe thead th {\n",
              "        text-align: right;\n",
              "    }\n",
              "</style>\n",
              "<table border=\"1\" class=\"dataframe\">\n",
              "  <thead>\n",
              "    <tr style=\"text-align: right;\">\n",
              "      <th></th>\n",
              "      <th>Name</th>\n",
              "      <th>Source Molecule</th>\n",
              "      <th>Species</th>\n",
              "      <th>Immunogenic</th>\n",
              "    </tr>\n",
              "  </thead>\n",
              "  <tbody>\n",
              "    <tr>\n",
              "      <th>0</th>\n",
              "      <td>AAAAAIFVI</td>\n",
              "      <td>MHC class I related protein A</td>\n",
              "      <td>Homo sapiens</td>\n",
              "      <td>1</td>\n",
              "    </tr>\n",
              "    <tr>\n",
              "      <th>1</th>\n",
              "      <td>AAAAALDKKQRNFDKILA</td>\n",
              "      <td>Myosin-7</td>\n",
              "      <td>Homo sapiens</td>\n",
              "      <td>1</td>\n",
              "    </tr>\n",
              "    <tr>\n",
              "      <th>2</th>\n",
              "      <td>AAAAKLAGLVFPQPPAPIAV</td>\n",
              "      <td>hypothetical protein Rv3878 - Mycobacterium tu...</td>\n",
              "      <td>Mycobacterium tuberculosis</td>\n",
              "      <td>1</td>\n",
              "    </tr>\n",
              "    <tr>\n",
              "      <th>3</th>\n",
              "      <td>AAAGDK</td>\n",
              "      <td>B13 antigen</td>\n",
              "      <td>Trypanosoma cruzi</td>\n",
              "      <td>1</td>\n",
              "    </tr>\n",
              "    <tr>\n",
              "      <th>4</th>\n",
              "      <td>AAAGFASKTPANQAISMIDG</td>\n",
              "      <td>Phosphate-binding protein pstS 1 precursor</td>\n",
              "      <td>Mycobacterium tuberculosis</td>\n",
              "      <td>1</td>\n",
              "    </tr>\n",
              "  </tbody>\n",
              "</table>\n",
              "</div>\n",
              "    <div class=\"colab-df-buttons\">\n",
              "\n",
              "  <div class=\"colab-df-container\">\n",
              "    <button class=\"colab-df-convert\" onclick=\"convertToInteractive('df-52b7f9d8-0d4e-4bcd-b19e-85b17a347b35')\"\n",
              "            title=\"Convert this dataframe to an interactive table.\"\n",
              "            style=\"display:none;\">\n",
              "\n",
              "  <svg xmlns=\"http://www.w3.org/2000/svg\" height=\"24px\" viewBox=\"0 -960 960 960\">\n",
              "    <path d=\"M120-120v-720h720v720H120Zm60-500h600v-160H180v160Zm220 220h160v-160H400v160Zm0 220h160v-160H400v160ZM180-400h160v-160H180v160Zm440 0h160v-160H620v160ZM180-180h160v-160H180v160Zm440 0h160v-160H620v160Z\"/>\n",
              "  </svg>\n",
              "    </button>\n",
              "\n",
              "  <style>\n",
              "    .colab-df-container {\n",
              "      display:flex;\n",
              "      gap: 12px;\n",
              "    }\n",
              "\n",
              "    .colab-df-convert {\n",
              "      background-color: #E8F0FE;\n",
              "      border: none;\n",
              "      border-radius: 50%;\n",
              "      cursor: pointer;\n",
              "      display: none;\n",
              "      fill: #1967D2;\n",
              "      height: 32px;\n",
              "      padding: 0 0 0 0;\n",
              "      width: 32px;\n",
              "    }\n",
              "\n",
              "    .colab-df-convert:hover {\n",
              "      background-color: #E2EBFA;\n",
              "      box-shadow: 0px 1px 2px rgba(60, 64, 67, 0.3), 0px 1px 3px 1px rgba(60, 64, 67, 0.15);\n",
              "      fill: #174EA6;\n",
              "    }\n",
              "\n",
              "    .colab-df-buttons div {\n",
              "      margin-bottom: 4px;\n",
              "    }\n",
              "\n",
              "    [theme=dark] .colab-df-convert {\n",
              "      background-color: #3B4455;\n",
              "      fill: #D2E3FC;\n",
              "    }\n",
              "\n",
              "    [theme=dark] .colab-df-convert:hover {\n",
              "      background-color: #434B5C;\n",
              "      box-shadow: 0px 1px 3px 1px rgba(0, 0, 0, 0.15);\n",
              "      filter: drop-shadow(0px 1px 2px rgba(0, 0, 0, 0.3));\n",
              "      fill: #FFFFFF;\n",
              "    }\n",
              "  </style>\n",
              "\n",
              "    <script>\n",
              "      const buttonEl =\n",
              "        document.querySelector('#df-52b7f9d8-0d4e-4bcd-b19e-85b17a347b35 button.colab-df-convert');\n",
              "      buttonEl.style.display =\n",
              "        google.colab.kernel.accessAllowed ? 'block' : 'none';\n",
              "\n",
              "      async function convertToInteractive(key) {\n",
              "        const element = document.querySelector('#df-52b7f9d8-0d4e-4bcd-b19e-85b17a347b35');\n",
              "        const dataTable =\n",
              "          await google.colab.kernel.invokeFunction('convertToInteractive',\n",
              "                                                    [key], {});\n",
              "        if (!dataTable) return;\n",
              "\n",
              "        const docLinkHtml = 'Like what you see? Visit the ' +\n",
              "          '<a target=\"_blank\" href=https://colab.research.google.com/notebooks/data_table.ipynb>data table notebook</a>'\n",
              "          + ' to learn more about interactive tables.';\n",
              "        element.innerHTML = '';\n",
              "        dataTable['output_type'] = 'display_data';\n",
              "        await google.colab.output.renderOutput(dataTable, element);\n",
              "        const docLink = document.createElement('div');\n",
              "        docLink.innerHTML = docLinkHtml;\n",
              "        element.appendChild(docLink);\n",
              "      }\n",
              "    </script>\n",
              "  </div>\n",
              "\n",
              "\n",
              "<div id=\"df-b681eb72-1f26-4a75-bf66-5697e0647bb2\">\n",
              "  <button class=\"colab-df-quickchart\" onclick=\"quickchart('df-b681eb72-1f26-4a75-bf66-5697e0647bb2')\"\n",
              "            title=\"Suggest charts\"\n",
              "            style=\"display:none;\">\n",
              "\n",
              "<svg xmlns=\"http://www.w3.org/2000/svg\" height=\"24px\"viewBox=\"0 0 24 24\"\n",
              "     width=\"24px\">\n",
              "    <g>\n",
              "        <path d=\"M19 3H5c-1.1 0-2 .9-2 2v14c0 1.1.9 2 2 2h14c1.1 0 2-.9 2-2V5c0-1.1-.9-2-2-2zM9 17H7v-7h2v7zm4 0h-2V7h2v10zm4 0h-2v-4h2v4z\"/>\n",
              "    </g>\n",
              "</svg>\n",
              "  </button>\n",
              "\n",
              "<style>\n",
              "  .colab-df-quickchart {\n",
              "      --bg-color: #E8F0FE;\n",
              "      --fill-color: #1967D2;\n",
              "      --hover-bg-color: #E2EBFA;\n",
              "      --hover-fill-color: #174EA6;\n",
              "      --disabled-fill-color: #AAA;\n",
              "      --disabled-bg-color: #DDD;\n",
              "  }\n",
              "\n",
              "  [theme=dark] .colab-df-quickchart {\n",
              "      --bg-color: #3B4455;\n",
              "      --fill-color: #D2E3FC;\n",
              "      --hover-bg-color: #434B5C;\n",
              "      --hover-fill-color: #FFFFFF;\n",
              "      --disabled-bg-color: #3B4455;\n",
              "      --disabled-fill-color: #666;\n",
              "  }\n",
              "\n",
              "  .colab-df-quickchart {\n",
              "    background-color: var(--bg-color);\n",
              "    border: none;\n",
              "    border-radius: 50%;\n",
              "    cursor: pointer;\n",
              "    display: none;\n",
              "    fill: var(--fill-color);\n",
              "    height: 32px;\n",
              "    padding: 0;\n",
              "    width: 32px;\n",
              "  }\n",
              "\n",
              "  .colab-df-quickchart:hover {\n",
              "    background-color: var(--hover-bg-color);\n",
              "    box-shadow: 0 1px 2px rgba(60, 64, 67, 0.3), 0 1px 3px 1px rgba(60, 64, 67, 0.15);\n",
              "    fill: var(--button-hover-fill-color);\n",
              "  }\n",
              "\n",
              "  .colab-df-quickchart-complete:disabled,\n",
              "  .colab-df-quickchart-complete:disabled:hover {\n",
              "    background-color: var(--disabled-bg-color);\n",
              "    fill: var(--disabled-fill-color);\n",
              "    box-shadow: none;\n",
              "  }\n",
              "\n",
              "  .colab-df-spinner {\n",
              "    border: 2px solid var(--fill-color);\n",
              "    border-color: transparent;\n",
              "    border-bottom-color: var(--fill-color);\n",
              "    animation:\n",
              "      spin 1s steps(1) infinite;\n",
              "  }\n",
              "\n",
              "  @keyframes spin {\n",
              "    0% {\n",
              "      border-color: transparent;\n",
              "      border-bottom-color: var(--fill-color);\n",
              "      border-left-color: var(--fill-color);\n",
              "    }\n",
              "    20% {\n",
              "      border-color: transparent;\n",
              "      border-left-color: var(--fill-color);\n",
              "      border-top-color: var(--fill-color);\n",
              "    }\n",
              "    30% {\n",
              "      border-color: transparent;\n",
              "      border-left-color: var(--fill-color);\n",
              "      border-top-color: var(--fill-color);\n",
              "      border-right-color: var(--fill-color);\n",
              "    }\n",
              "    40% {\n",
              "      border-color: transparent;\n",
              "      border-right-color: var(--fill-color);\n",
              "      border-top-color: var(--fill-color);\n",
              "    }\n",
              "    60% {\n",
              "      border-color: transparent;\n",
              "      border-right-color: var(--fill-color);\n",
              "    }\n",
              "    80% {\n",
              "      border-color: transparent;\n",
              "      border-right-color: var(--fill-color);\n",
              "      border-bottom-color: var(--fill-color);\n",
              "    }\n",
              "    90% {\n",
              "      border-color: transparent;\n",
              "      border-bottom-color: var(--fill-color);\n",
              "    }\n",
              "  }\n",
              "</style>\n",
              "\n",
              "  <script>\n",
              "    async function quickchart(key) {\n",
              "      const quickchartButtonEl =\n",
              "        document.querySelector('#' + key + ' button');\n",
              "      quickchartButtonEl.disabled = true;  // To prevent multiple clicks.\n",
              "      quickchartButtonEl.classList.add('colab-df-spinner');\n",
              "      try {\n",
              "        const charts = await google.colab.kernel.invokeFunction(\n",
              "            'suggestCharts', [key], {});\n",
              "      } catch (error) {\n",
              "        console.error('Error during call to suggestCharts:', error);\n",
              "      }\n",
              "      quickchartButtonEl.classList.remove('colab-df-spinner');\n",
              "      quickchartButtonEl.classList.add('colab-df-quickchart-complete');\n",
              "    }\n",
              "    (() => {\n",
              "      let quickchartButtonEl =\n",
              "        document.querySelector('#df-b681eb72-1f26-4a75-bf66-5697e0647bb2 button');\n",
              "      quickchartButtonEl.style.display =\n",
              "        google.colab.kernel.accessAllowed ? 'block' : 'none';\n",
              "    })();\n",
              "  </script>\n",
              "</div>\n",
              "\n",
              "    </div>\n",
              "  </div>\n"
            ],
            "application/vnd.google.colaboratory.intrinsic+json": {
              "type": "dataframe",
              "summary": "{\n  \"name\": \"display(df_merged\",\n  \"rows\": 5,\n  \"fields\": [\n    {\n      \"column\": \"Name\",\n      \"properties\": {\n        \"dtype\": \"string\",\n        \"num_unique_values\": 5,\n        \"samples\": [\n          \"AAAAALDKKQRNFDKILA\",\n          \"AAAGFASKTPANQAISMIDG\",\n          \"AAAAKLAGLVFPQPPAPIAV\"\n        ],\n        \"semantic_type\": \"\",\n        \"description\": \"\"\n      }\n    },\n    {\n      \"column\": \"Source Molecule\",\n      \"properties\": {\n        \"dtype\": \"string\",\n        \"num_unique_values\": 5,\n        \"samples\": [\n          \"Myosin-7\",\n          \"Phosphate-binding protein pstS 1 precursor\",\n          \"hypothetical protein Rv3878 - Mycobacterium tuberculosis  (strain H37RV)\"\n        ],\n        \"semantic_type\": \"\",\n        \"description\": \"\"\n      }\n    },\n    {\n      \"column\": \"Species\",\n      \"properties\": {\n        \"dtype\": \"string\",\n        \"num_unique_values\": 3,\n        \"samples\": [\n          \"Homo sapiens\",\n          \"Mycobacterium tuberculosis\",\n          \"Trypanosoma cruzi\"\n        ],\n        \"semantic_type\": \"\",\n        \"description\": \"\"\n      }\n    },\n    {\n      \"column\": \"Immunogenic\",\n      \"properties\": {\n        \"dtype\": \"number\",\n        \"std\": 0,\n        \"min\": 1,\n        \"max\": 1,\n        \"num_unique_values\": 1,\n        \"samples\": [\n          1\n        ],\n        \"semantic_type\": \"\",\n        \"description\": \"\"\n      }\n    }\n  ]\n}"
            }
          },
          "metadata": {}
        }
      ]
    },
    {
      "cell_type": "code",
      "source": [
        "# Remove duplicate sequences\n",
        "data = df_merged.drop_duplicates()\n",
        "\n",
        "# Check if the label column exists\n",
        "if \"Immunogenic\" not in data.columns:\n",
        "    raise ValueError(\"The dataset must include an 'Immunogenic' column as labels.\")\n",
        "\n",
        "# Split data into training (80%) and testing (20%) sets\n",
        "train_df, test_df = train_test_split(data, test_size=0.2, random_state=42)"
      ],
      "metadata": {
        "id": "Z6p5pQjm-7ml"
      },
      "execution_count": 8,
      "outputs": []
    },
    {
      "cell_type": "markdown",
      "source": [
        "## **Feature Engineering**"
      ],
      "metadata": {
        "id": "cE4oA4mk_FoQ"
      }
    },
    {
      "cell_type": "code",
      "source": [
        "# Extract Physicochemical Properties using BioPython\n",
        "def compute_properties(seq):\n",
        "    \"\"\"\n",
        "    Compute selected physicochemical properties for a peptide sequence.\n",
        "    Returns hydrophobicity, charge at pH 7, molecular weight, and isoelectric point.\n",
        "    \"\"\"\n",
        "    try:\n",
        "        analysis = ProteinAnalysis(seq)\n",
        "        hydrophobicity = analysis.gravy()                # Average hydropathy (hydrophobicity)\n",
        "        charge = analysis.charge_at_pH(7.0)              # Net charge at pH 7\n",
        "        molecular_weight = analysis.molecular_weight()   # Molecular weight\n",
        "        isoelectric_point = analysis.isoelectric_point() # Isoelectric point (pI)\n",
        "    except Exception as e:\n",
        "        # In case of an error (e.g., invalid sequence), return NaN values\n",
        "        hydrophobicity, charge, molecular_weight, isoelectric_point = (np.nan, np.nan, np.nan, np.nan)\n",
        "    return pd.Series([hydrophobicity, charge, molecular_weight, isoelectric_point],\n",
        "                     index=['hydrophobicity', 'charge', 'molecular_weight', 'isoelectric_point'])\n",
        "\n",
        "# Apply the function to each sequence in training and test data\n",
        "train_df[['hydrophobicity', 'charge', 'molecular_weight', 'isoelectric_point']] = train_df['Name'].apply(compute_properties)\n",
        "test_df[['hydrophobicity', 'charge', 'molecular_weight', 'isoelectric_point']] = test_df['Name'].apply(compute_properties)"
      ],
      "metadata": {
        "id": "uKeXTFSb_I-_"
      },
      "execution_count": 9,
      "outputs": []
    },
    {
      "cell_type": "code",
      "source": [
        "# Define and configure the vectorizer\n",
        "vectorizer = CountVectorizer(analyzer='char', ngram_range=(2,3))\n",
        "\n",
        "# Drop any rows that have NaNs in the 'Name' or numeric columns\n",
        "train_df = train_df.dropna(subset=['Name', 'Immunogenic',\n",
        "                                   'hydrophobicity', 'charge',\n",
        "                                   'molecular_weight', 'isoelectric_point'])\n",
        "test_df = test_df.dropna(subset=['Name', 'Immunogenic',\n",
        "                                 'hydrophobicity', 'charge',\n",
        "                                 'molecular_weight', 'isoelectric_point'])\n",
        "\n",
        "# Recompute or reuse your feature matrices after dropping rows\n",
        "X_train_ngrams = vectorizer.fit_transform(train_df['Name'])\n",
        "X_test_ngrams = vectorizer.transform(test_df['Name'])\n",
        "\n",
        "# Combine with numeric features again\n",
        "phys_train = train_df[['hydrophobicity', 'charge',\n",
        "                       'molecular_weight', 'isoelectric_point']].values\n",
        "phys_test = test_df[['hydrophobicity', 'charge',\n",
        "                     'molecular_weight', 'isoelectric_point']].values\n",
        "\n",
        "# Combine the n-gram features with the physicochemical properties\n",
        "X_train = hstack([X_train_ngrams, phys_train])\n",
        "X_test = hstack([X_test_ngrams, phys_test])\n",
        "\n",
        "# Define labels\n",
        "y_train = train_df['Immunogenic']\n",
        "y_test = test_df['Immunogenic']"
      ],
      "metadata": {
        "id": "jL6RpdR4_R0-"
      },
      "execution_count": 12,
      "outputs": []
    },
    {
      "cell_type": "markdown",
      "source": [
        "## **Model Selection & Training**"
      ],
      "metadata": {
        "id": "zr1ykNCdC5b0"
      }
    },
    {
      "cell_type": "code",
      "source": [
        "# Initialize and train a Random Forest Classifier\n",
        "import time\n",
        "\n",
        "start_time = time.time()\n",
        "# Calculate the ratio for the positive class\n",
        "# Assuming y_train contains 0 for negatives and 1 for positives\n",
        "neg, pos = np.bincount(y_train)\n",
        "scale_pos_weight = neg / pos\n",
        "\n",
        "# Initialize the model with the computed scale_pos_weight\n",
        "model = XGBClassifier(\n",
        "    random_state=42,\n",
        "    n_jobs=-1,\n",
        "    n_estimators=50,    # Smaller number for faster iteration\n",
        "    max_depth=10,\n",
        "    learning_rate=0.1,\n",
        "    scale_pos_weight=scale_pos_weight  # Helps balance the classes\n",
        ")\n",
        "\n",
        "# Fit the model\n",
        "model.fit(X_train, y_train)\n",
        "end_time = time.time()\n",
        "\n",
        "print(\"Training took {:.2f} seconds\".format(end_time - start_time))\n"
      ],
      "metadata": {
        "colab": {
          "base_uri": "https://localhost:8080/"
        },
        "id": "TH1T_1jAPZXQ",
        "outputId": "8db1f376-ad0b-4cc9-caa7-9842a7c9677d"
      },
      "execution_count": 24,
      "outputs": [
        {
          "output_type": "stream",
          "name": "stdout",
          "text": [
            "Training took 27.20 seconds\n"
          ]
        }
      ]
    },
    {
      "cell_type": "markdown",
      "source": [
        "## **Training & Evaluation**"
      ],
      "metadata": {
        "id": "fOLuXdDwIIAT"
      }
    },
    {
      "cell_type": "code",
      "source": [
        "# Obtain predicted probabilities for the positive class\n",
        "y_proba = model.predict_proba(X_test)[:, 1]\n",
        "\n",
        "# Compute precision, recall, and thresholds\n",
        "precisions, recalls, thresholds = precision_recall_curve(y_test, y_proba)\n",
        "\n",
        "# Set your desired minimum recall\n",
        "desired_recall = 0.8\n",
        "\n",
        "# Since the last element of recalls corresponds to a threshold of 0 and isn't paired with a threshold value,\n",
        "# we consider recalls[:-1] and thresholds.\n",
        "candidate_indices = np.where(recalls[:-1] >= desired_recall)[0]\n",
        "\n",
        "if len(candidate_indices) > 0:\n",
        "    # From candidates, select the one with the highest precision\n",
        "    candidate_precisions = precisions[candidate_indices]\n",
        "    best_index = candidate_indices[np.argmax(candidate_precisions)]\n",
        "    custom_threshold = thresholds[best_index]\n",
        "else:\n",
        "    # Fall back to the default threshold if no candidate meets the desired recall\n",
        "    custom_threshold = 0.5\n",
        "\n",
        "print(\"Selected custom threshold:\", custom_threshold)\n",
        "\n",
        "# Generate predictions with the custom threshold\n",
        "y_pred_custom = (y_proba >= custom_threshold).astype(int)\n",
        "\n",
        "# Compute evaluation metrics\n",
        "accuracy = accuracy_score(y_test, y_pred_custom)\n",
        "roc_auc = roc_auc_score(y_test, y_proba)\n",
        "precision, recall, f1, _ = precision_recall_fscore_support(y_test, y_pred_custom, average='binary')\n",
        "\n",
        "print(\"Custom Threshold Model Performance:\")\n",
        "print(\"Accuracy:\", accuracy)\n",
        "print(\"ROC-AUC:\", roc_auc)\n",
        "print(\"Precision:\", precision)\n",
        "print(\"Recall:\", recall)\n",
        "print(\"F1-score:\", f1)\n"
      ],
      "metadata": {
        "id": "zHQFuY0KIIKc",
        "colab": {
          "base_uri": "https://localhost:8080/"
        },
        "outputId": "96cb4858-70c9-40c7-b1f3-477bf4106c57"
      },
      "execution_count": 55,
      "outputs": [
        {
          "output_type": "stream",
          "name": "stdout",
          "text": [
            "Selected custom threshold: 0.41765854\n",
            "Custom Threshold Model Performance:\n",
            "Accuracy: 0.5920120318688942\n",
            "ROC-AUC: 0.7356341775074597\n",
            "Precision: 0.3745915686050497\n",
            "Recall: 0.8000780849662038\n",
            "F1-score: 0.5102753849864992\n"
          ]
        }
      ]
    },
    {
      "cell_type": "markdown",
      "source": [
        "## **Model Interpretation**"
      ],
      "metadata": {
        "id": "_-TLBH8sIOcO"
      }
    },
    {
      "cell_type": "code",
      "source": [
        "# Initialize the SHAP explainer\n",
        "explainer = shap.TreeExplainer(model)\n",
        "\n",
        "# Convert your training matrix to CSR format so it supports slicing\n",
        "X_train_csr = X_train.tocsr()\n",
        "\n",
        "# Slice the first 1000 rows\n",
        "X_train_sample_csr = X_train_csr[:1000, :]\n",
        "\n",
        "# Convert that slice to a dense array (SHAP often requires dense input for tree-based explainers)\n",
        "X_train_sample_dense = X_train_sample_csr.toarray()\n",
        "\n",
        "# Compute SHAP values on this subset\n",
        "shap_values = explainer.shap_values(X_train_sample_dense)\n",
        "\n",
        "# Handle whether shap_values is a list (older versions / multi-class) or a single array\n",
        "if isinstance(shap_values, list):\n",
        "    # For many binary classification scenarios, shap_values is a list of length 2\n",
        "    # [0] -> SHAP values for the negative class\n",
        "    # [1] -> SHAP values for the positive class\n",
        "    shap_values_for_plot = shap_values[1]\n",
        "else:\n",
        "    # If shap_values is a single array, use it directly\n",
        "    shap_values_for_plot = shap_values\n",
        "\n",
        "# Create a combined list of feature names: n-gram features + physicochemical properties\n",
        "ngram_features = vectorizer.get_feature_names_out().tolist()\n",
        "combined_feature_names = ngram_features + [\n",
        "    'hydrophobicity',\n",
        "    'charge',\n",
        "    'molecular_weight',\n",
        "    'isoelectric_point'\n",
        "]\n",
        "# Generate a SHAP summary plot for the positive class (or the single array returned)\n",
        "shap.summary_plot(\n",
        "    shap_values_for_plot,\n",
        "    X_train_sample_dense,\n",
        "    feature_names=combined_feature_names,\n",
        "    plot_type=\"bar\",\n",
        "    show=False  # Prevent auto-display so we can modify the plot\n",
        ")\n",
        "\n",
        "# Access the current axes and set all bar patches to teal\n",
        "ax = plt.gca()\n",
        "for patch in ax.patches:\n",
        "    patch.set_facecolor(\"teal\")\n",
        "    patch.set_alpha(0.6)\n",
        "\n",
        "# Add a title and label to the y-axis\n",
        "ax.set_title(\"Feature Importance Based on SHAP Values\", fontsize = 23)\n",
        "ax.set_ylabel(\"Features\", fontsize = 16)\n",
        "\n",
        "# (Optional) Add a custom x-axis label\n",
        "ax.set_xlabel(\"mean(|SHAP value|) (impact on model output)\")\n",
        "\n",
        "plt.show()\n",
        "\n"
      ],
      "metadata": {
        "id": "36pxl57kIRnv",
        "colab": {
          "base_uri": "https://localhost:8080/",
          "height": 989
        },
        "outputId": "19d7b1e5-ffd9-4f53-80e5-85f4a46699c9"
      },
      "execution_count": 63,
      "outputs": [
        {
          "output_type": "display_data",
          "data": {
            "text/plain": [
              "<Figure size 800x950 with 1 Axes>"
            ],
            "image/png": "[encoded data removed]"
          },
          "metadata": {}
        }
      ]
    }
  ]
}